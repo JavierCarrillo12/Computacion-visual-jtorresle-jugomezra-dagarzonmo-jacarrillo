{
 "cells": [
  {
   "cell_type": "code",
   "execution_count": 1,
   "id": "3e156173",
   "metadata": {},
   "outputs": [
    {
     "name": "stdout",
     "output_type": "stream",
     "text": [
      "Collecting opencv-python\n",
      "  Downloading opencv_python-4.11.0.86-cp37-abi3-win_amd64.whl.metadata (20 kB)\n",
      "Collecting numpy\n",
      "  Downloading numpy-2.2.5-cp312-cp312-win_amd64.whl.metadata (60 kB)\n",
      "Downloading opencv_python-4.11.0.86-cp37-abi3-win_amd64.whl (39.5 MB)\n",
      "   ---------------------------------------- 0.0/39.5 MB ? eta -:--:--\n",
      "   ---- ----------------------------------- 4.7/39.5 MB 23.8 MB/s eta 0:00:02\n",
      "   ---------- ----------------------------- 10.0/39.5 MB 23.9 MB/s eta 0:00:02\n",
      "   --------------- ------------------------ 15.5/39.5 MB 24.3 MB/s eta 0:00:01\n",
      "   -------------------- ------------------- 19.9/39.5 MB 23.7 MB/s eta 0:00:01\n",
      "   ------------------------ --------------- 24.6/39.5 MB 23.6 MB/s eta 0:00:01\n",
      "   ----------------------------- ---------- 29.4/39.5 MB 23.3 MB/s eta 0:00:01\n",
      "   ---------------------------------- ----- 34.3/39.5 MB 23.5 MB/s eta 0:00:01\n",
      "   ---------------------------------------  39.3/39.5 MB 23.8 MB/s eta 0:00:01\n",
      "   ---------------------------------------- 39.5/39.5 MB 22.2 MB/s eta 0:00:00\n",
      "Downloading numpy-2.2.5-cp312-cp312-win_amd64.whl (12.6 MB)\n",
      "   ---------------------------------------- 0.0/12.6 MB ? eta -:--:--\n",
      "   --------------------- ------------------ 6.8/12.6 MB 32.3 MB/s eta 0:00:01\n",
      "   ---------------------------------------- 12.6/12.6 MB 29.3 MB/s eta 0:00:00\n",
      "Installing collected packages: numpy, opencv-python\n",
      "Successfully installed numpy-2.2.5 opencv-python-4.11.0.86\n",
      "Note: you may need to restart the kernel to use updated packages.\n"
     ]
    },
    {
     "name": "stderr",
     "output_type": "stream",
     "text": [
      "\n",
      "[notice] A new release of pip is available: 24.2 -> 25.1.1\n",
      "[notice] To update, run: python.exe -m pip install --upgrade pip\n"
     ]
    }
   ],
   "source": [
    "%pip install opencv-python numpy"
   ]
  },
  {
   "cell_type": "code",
   "execution_count": 1,
   "id": "fba54e04",
   "metadata": {},
   "outputs": [],
   "source": [
    "from mediapipe.python.solutions.hands import Hands, HAND_CONNECTIONS\n",
    "import mediapipe.python.solutions.drawing_utils as mp_drawing\n",
    "import cv2\n",
    "import numpy as np\n",
    "\n",
    "\n",
    "\n",
    "# Luego creas tu objeto Hands igual...\n",
    "hands = Hands(\n",
    "    max_num_hands=1,\n",
    "    min_detection_confidence=0.7,\n",
    "    min_tracking_confidence=0.5\n",
    ")"
   ]
  },
  {
   "cell_type": "code",
   "execution_count": 2,
   "id": "b2123b27",
   "metadata": {},
   "outputs": [],
   "source": [
    "def count_extended_fingers(lms):\n",
    "    \"\"\"\n",
    "    Cuenta cuántos dedos están extendidos.\n",
    "    lms: hand_landmarks de MediaPipe\n",
    "    \"\"\"\n",
    "    tips = [4, 8, 12, 16, 20]  # pulgar, índice, medio, anular, meñique\n",
    "    count = 0\n",
    "\n",
    "    # Dedos (no pulgar): la punta debe estar \"más arriba\" que la articulación de dos niveles atrás\n",
    "    for tip in tips[1:]:\n",
    "        if lms.landmark[tip].y < lms.landmark[tip-2].y:\n",
    "            count += 1\n",
    "\n",
    "    # Pulgar: en horizontal. Para mano derecha, x(4) < x(3) significa extendido\n",
    "    if lms.landmark[4].x < lms.landmark[3].x:\n",
    "        count += 1\n",
    "\n",
    "    return count\n",
    "\n",
    "def calc_distance(lm1, lm2, w, h):\n",
    "    \"\"\"\n",
    "    Calcula la distancia euclidiana entre dos landmarks normalizados\n",
    "    y retorna también sus coordenadas absolutas.\n",
    "    \"\"\"\n",
    "    x1, y1 = int(lm1.x * w), int(lm1.y * h)\n",
    "    x2, y2 = int(lm2.x * w), int(lm2.y * h)\n",
    "    dist = np.hypot(x2 - x1, y2 - y1)\n",
    "    return dist, (x1, y1), (x2, y2)"
   ]
  },
  {
   "cell_type": "code",
   "execution_count": 3,
   "id": "341fe32b",
   "metadata": {},
   "outputs": [
    {
     "ename": "KeyboardInterrupt",
     "evalue": "",
     "output_type": "error",
     "traceback": [
      "\u001b[31m---------------------------------------------------------------------------\u001b[39m",
      "\u001b[31mKeyboardInterrupt\u001b[39m                         Traceback (most recent call last)",
      "\u001b[36mCell\u001b[39m\u001b[36m \u001b[39m\u001b[32mIn[3]\u001b[39m\u001b[32m, line 13\u001b[39m\n\u001b[32m     11\u001b[39m h, w, _ = frame.shape\n\u001b[32m     12\u001b[39m rgb = cv2.cvtColor(frame, cv2.COLOR_BGR2RGB)\n\u001b[32m---> \u001b[39m\u001b[32m13\u001b[39m result = \u001b[43mhands\u001b[49m\u001b[43m.\u001b[49m\u001b[43mprocess\u001b[49m\u001b[43m(\u001b[49m\u001b[43mrgb\u001b[49m\u001b[43m)\u001b[49m\n\u001b[32m     15\u001b[39m \u001b[38;5;66;03m# Preparar \"lienzo\" de salida\u001b[39;00m\n\u001b[32m     16\u001b[39m canvas = np.zeros_like(frame)\n",
      "\u001b[36mFile \u001b[39m\u001b[32mc:\\Users\\samar\\AppData\\Local\\Programs\\Python\\Python312\\Lib\\site-packages\\mediapipe\\python\\solutions\\hands.py:153\u001b[39m, in \u001b[36mHands.process\u001b[39m\u001b[34m(self, image)\u001b[39m\n\u001b[32m    132\u001b[39m \u001b[38;5;28;01mdef\u001b[39;00m\u001b[38;5;250m \u001b[39m\u001b[34mprocess\u001b[39m(\u001b[38;5;28mself\u001b[39m, image: np.ndarray) -> NamedTuple:\n\u001b[32m    133\u001b[39m \u001b[38;5;250m  \u001b[39m\u001b[33;03m\"\"\"Processes an RGB image and returns the hand landmarks and handedness of each detected hand.\u001b[39;00m\n\u001b[32m    134\u001b[39m \n\u001b[32m    135\u001b[39m \u001b[33;03m  Args:\u001b[39;00m\n\u001b[32m   (...)\u001b[39m\u001b[32m    150\u001b[39m \u001b[33;03m         right hand) of the detected hand.\u001b[39;00m\n\u001b[32m    151\u001b[39m \u001b[33;03m  \"\"\"\u001b[39;00m\n\u001b[32m--> \u001b[39m\u001b[32m153\u001b[39m   \u001b[38;5;28;01mreturn\u001b[39;00m \u001b[38;5;28;43msuper\u001b[39;49m\u001b[43m(\u001b[49m\u001b[43m)\u001b[49m\u001b[43m.\u001b[49m\u001b[43mprocess\u001b[49m\u001b[43m(\u001b[49m\u001b[43minput_data\u001b[49m\u001b[43m=\u001b[49m\u001b[43m{\u001b[49m\u001b[33;43m'\u001b[39;49m\u001b[33;43mimage\u001b[39;49m\u001b[33;43m'\u001b[39;49m\u001b[43m:\u001b[49m\u001b[43m \u001b[49m\u001b[43mimage\u001b[49m\u001b[43m}\u001b[49m\u001b[43m)\u001b[49m\n",
      "\u001b[36mFile \u001b[39m\u001b[32mc:\\Users\\samar\\AppData\\Local\\Programs\\Python\\Python312\\Lib\\site-packages\\mediapipe\\python\\solution_base.py:340\u001b[39m, in \u001b[36mSolutionBase.process\u001b[39m\u001b[34m(self, input_data)\u001b[39m\n\u001b[32m    334\u001b[39m   \u001b[38;5;28;01melse\u001b[39;00m:\n\u001b[32m    335\u001b[39m     \u001b[38;5;28mself\u001b[39m._graph.add_packet_to_input_stream(\n\u001b[32m    336\u001b[39m         stream=stream_name,\n\u001b[32m    337\u001b[39m         packet=\u001b[38;5;28mself\u001b[39m._make_packet(input_stream_type,\n\u001b[32m    338\u001b[39m                                  data).at(\u001b[38;5;28mself\u001b[39m._simulated_timestamp))\n\u001b[32m--> \u001b[39m\u001b[32m340\u001b[39m \u001b[38;5;28;43mself\u001b[39;49m\u001b[43m.\u001b[49m\u001b[43m_graph\u001b[49m\u001b[43m.\u001b[49m\u001b[43mwait_until_idle\u001b[49m\u001b[43m(\u001b[49m\u001b[43m)\u001b[49m\n\u001b[32m    341\u001b[39m \u001b[38;5;66;03m# Create a NamedTuple object where the field names are mapping to the graph\u001b[39;00m\n\u001b[32m    342\u001b[39m \u001b[38;5;66;03m# output stream names.\u001b[39;00m\n\u001b[32m    343\u001b[39m \u001b[38;5;28;01mif\u001b[39;00m \u001b[38;5;28mself\u001b[39m._output_stream_type_info \u001b[38;5;129;01mis\u001b[39;00m \u001b[38;5;28;01mNone\u001b[39;00m:\n",
      "\u001b[31mKeyboardInterrupt\u001b[39m: "
     ]
    }
   ],
   "source": [
    "cap = cv2.VideoCapture(0)\n",
    "scene = 0\n",
    "bg_color = (30, 30, 30)      # color de fondo inicial\n",
    "last_switch = 0             # para debounce\n",
    "\n",
    "while cap.isOpened():\n",
    "    ret, frame = cap.read()\n",
    "    if not ret: break\n",
    "\n",
    "    frame = cv2.flip(frame, 1)\n",
    "    h, w, _ = frame.shape\n",
    "    rgb = cv2.cvtColor(frame, cv2.COLOR_BGR2RGB)\n",
    "    result = hands.process(rgb)\n",
    "\n",
    "    # Preparar \"lienzo\" de salida\n",
    "    canvas = np.zeros_like(frame)\n",
    "    canvas[:] = bg_color\n",
    "\n",
    "    idx_pos = None\n",
    "    fingers = 0\n",
    "    pinch_dist = None\n",
    "\n",
    "    if result.multi_hand_landmarks:\n",
    "        hand = result.multi_hand_landmarks[0]\n",
    "        mp_drawing.draw_landmarks(canvas, hand, HAND_CONNECTIONS)\n",
    "\n",
    "        # 1) Conteo de dedos\n",
    "        fingers = count_extended_fingers(hand)\n",
    "        cv2.putText(canvas, f\"Dedos: {fingers}\", (10,30),\n",
    "                    cv2.FONT_HERSHEY_SIMPLEX, 1, (255,255,255), 2)\n",
    "\n",
    "        # 2) Distancia entre índice (8) y pulgar (4)\n",
    "        dist, p1, p2 = calc_distance(hand.landmark[8], hand.landmark[4], w, h)\n",
    "        pinch_dist = int(dist)\n",
    "        cv2.line(canvas, p1, p2, (0,255,0), 2)\n",
    "        cv2.putText(canvas, f\"Dist: {pinch_dist}\", (10,70),\n",
    "                    cv2.FONT_HERSHEY_SIMPLEX, 1, (0,255,0), 2)\n",
    "\n",
    "        # 3) Posición índice para mover objeto\n",
    "        idx_pos = p1  # posición de la punta del índice\n",
    "\n",
    "        # 4) Gestos de acción:\n",
    "        now = cv2.getTickCount() / cv2.getTickFrequency()\n",
    "\n",
    "        # — Cambiar escena con palma abierta (5 dedos)\n",
    "        if fingers == 5 and now - last_switch > 1.0:\n",
    "            scene = (scene + 1) % 3\n",
    "            last_switch = now\n",
    "\n",
    "        # — Cambiar color de fondo con puño cerrado (0 dedos)\n",
    "        if fingers == 0:\n",
    "            bg_color = tuple(np.random.randint(50,256,3).tolist())\n",
    "\n",
    "    # 5) Dibujar objeto que sigue al índice\n",
    "    if idx_pos:\n",
    "        cv2.circle(canvas, idx_pos, 40, (255,255,255), -1)\n",
    "\n",
    "    # 6) Mostrar número de escena\n",
    "    cv2.putText(canvas, f\"Scene: {scene}\", (w-200,30),\n",
    "                cv2.FONT_HERSHEY_SIMPLEX, 1, (255,255,255), 2)\n",
    "\n",
    "    cv2.imshow(\"Manos + Gestos\", canvas)\n",
    "    if cv2.waitKey(1) & 0xFF == 27:  # Esc para salir\n",
    "        break\n",
    "\n",
    "cap.release()\n",
    "cv2.destroyAllWindows()\n"
   ]
  }
 ],
 "metadata": {
  "kernelspec": {
   "display_name": "Python 3",
   "language": "python",
   "name": "python3"
  },
  "language_info": {
   "codemirror_mode": {
    "name": "ipython",
    "version": 3
   },
   "file_extension": ".py",
   "mimetype": "text/x-python",
   "name": "python",
   "nbconvert_exporter": "python",
   "pygments_lexer": "ipython3",
   "version": "3.12.6"
  }
 },
 "nbformat": 4,
 "nbformat_minor": 5
}
