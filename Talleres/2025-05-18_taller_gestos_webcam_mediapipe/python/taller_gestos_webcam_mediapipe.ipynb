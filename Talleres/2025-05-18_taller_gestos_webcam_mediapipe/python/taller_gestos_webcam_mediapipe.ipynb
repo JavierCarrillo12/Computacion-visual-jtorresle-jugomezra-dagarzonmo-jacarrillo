{
  "nbformat": 4,
  "nbformat_minor": 0,
  "metadata": {
    "colab": {
      "provenance": []
    },
    "kernelspec": {
      "name": "python3",
      "display_name": "Python 3"
    },
    "language_info": {
      "name": "python"
    }
  },
  "cells": [
    {
      "cell_type": "code",
      "execution_count": 1,
      "metadata": {
        "colab": {
          "base_uri": "https://localhost:8080/"
        },
        "id": "qb_ejyCh3cSf",
        "outputId": "b89db1f8-8fc6-4548-dfe1-42a29c6f6eb9"
      },
      "outputs": [
        {
          "output_type": "stream",
          "name": "stdout",
          "text": [
            "Requirement already satisfied: mediapipe in /usr/local/lib/python3.11/dist-packages (0.10.8)\n",
            "Requirement already satisfied: opencv-python in /usr/local/lib/python3.11/dist-packages (4.11.0.86)\n",
            "Requirement already satisfied: numpy in /usr/local/lib/python3.11/dist-packages (1.26.4)\n",
            "Requirement already satisfied: absl-py in /usr/local/lib/python3.11/dist-packages (from mediapipe) (1.4.0)\n",
            "Requirement already satisfied: attrs>=19.1.0 in /usr/local/lib/python3.11/dist-packages (from mediapipe) (25.3.0)\n",
            "Requirement already satisfied: flatbuffers>=2.0 in /usr/local/lib/python3.11/dist-packages (from mediapipe) (25.2.10)\n",
            "Requirement already satisfied: matplotlib in /usr/local/lib/python3.11/dist-packages (from mediapipe) (3.10.0)\n",
            "Requirement already satisfied: opencv-contrib-python in /usr/local/lib/python3.11/dist-packages (from mediapipe) (4.11.0.86)\n",
            "Requirement already satisfied: protobuf<4,>=3.11 in /usr/local/lib/python3.11/dist-packages (from mediapipe) (3.20.3)\n",
            "Requirement already satisfied: sounddevice>=0.4.4 in /usr/local/lib/python3.11/dist-packages (from mediapipe) (0.5.1)\n",
            "Requirement already satisfied: CFFI>=1.0 in /usr/local/lib/python3.11/dist-packages (from sounddevice>=0.4.4->mediapipe) (1.17.1)\n",
            "Requirement already satisfied: contourpy>=1.0.1 in /usr/local/lib/python3.11/dist-packages (from matplotlib->mediapipe) (1.3.2)\n",
            "Requirement already satisfied: cycler>=0.10 in /usr/local/lib/python3.11/dist-packages (from matplotlib->mediapipe) (0.12.1)\n",
            "Requirement already satisfied: fonttools>=4.22.0 in /usr/local/lib/python3.11/dist-packages (from matplotlib->mediapipe) (4.57.0)\n",
            "Requirement already satisfied: kiwisolver>=1.3.1 in /usr/local/lib/python3.11/dist-packages (from matplotlib->mediapipe) (1.4.8)\n",
            "Requirement already satisfied: packaging>=20.0 in /usr/local/lib/python3.11/dist-packages (from matplotlib->mediapipe) (24.2)\n",
            "Requirement already satisfied: pillow>=8 in /usr/local/lib/python3.11/dist-packages (from matplotlib->mediapipe) (11.2.1)\n",
            "Requirement already satisfied: pyparsing>=2.3.1 in /usr/local/lib/python3.11/dist-packages (from matplotlib->mediapipe) (3.2.3)\n",
            "Requirement already satisfied: python-dateutil>=2.7 in /usr/local/lib/python3.11/dist-packages (from matplotlib->mediapipe) (2.9.0.post0)\n",
            "Requirement already satisfied: pycparser in /usr/local/lib/python3.11/dist-packages (from CFFI>=1.0->sounddevice>=0.4.4->mediapipe) (2.22)\n",
            "Requirement already satisfied: six>=1.5 in /usr/local/lib/python3.11/dist-packages (from python-dateutil>=2.7->matplotlib->mediapipe) (1.17.0)\n"
          ]
        }
      ],
      "source": [
        "!pip install mediapipe opencv-python numpy"
      ]
    },
    {
      "cell_type": "code",
      "source": [
        "!pip uninstall -y mediapipe\n",
        "!pip install mediapipe==0.10.8"
      ],
      "metadata": {
        "colab": {
          "base_uri": "https://localhost:8080/"
        },
        "id": "T0QTMcDe6vCp",
        "outputId": "6701cbd2-29c0-4892-a0ee-0b971b8cf8f1"
      },
      "execution_count": 2,
      "outputs": [
        {
          "output_type": "stream",
          "name": "stdout",
          "text": [
            "Found existing installation: mediapipe 0.10.8\n",
            "Uninstalling mediapipe-0.10.8:\n",
            "  Successfully uninstalled mediapipe-0.10.8\n",
            "Collecting mediapipe==0.10.8\n",
            "  Using cached mediapipe-0.10.8-cp311-cp311-manylinux_2_17_x86_64.manylinux2014_x86_64.whl.metadata (9.6 kB)\n",
            "Requirement already satisfied: absl-py in /usr/local/lib/python3.11/dist-packages (from mediapipe==0.10.8) (1.4.0)\n",
            "Requirement already satisfied: attrs>=19.1.0 in /usr/local/lib/python3.11/dist-packages (from mediapipe==0.10.8) (25.3.0)\n",
            "Requirement already satisfied: flatbuffers>=2.0 in /usr/local/lib/python3.11/dist-packages (from mediapipe==0.10.8) (25.2.10)\n",
            "Requirement already satisfied: matplotlib in /usr/local/lib/python3.11/dist-packages (from mediapipe==0.10.8) (3.10.0)\n",
            "Requirement already satisfied: numpy in /usr/local/lib/python3.11/dist-packages (from mediapipe==0.10.8) (1.26.4)\n",
            "Requirement already satisfied: opencv-contrib-python in /usr/local/lib/python3.11/dist-packages (from mediapipe==0.10.8) (4.11.0.86)\n",
            "Requirement already satisfied: protobuf<4,>=3.11 in /usr/local/lib/python3.11/dist-packages (from mediapipe==0.10.8) (3.20.3)\n",
            "Requirement already satisfied: sounddevice>=0.4.4 in /usr/local/lib/python3.11/dist-packages (from mediapipe==0.10.8) (0.5.1)\n",
            "Requirement already satisfied: CFFI>=1.0 in /usr/local/lib/python3.11/dist-packages (from sounddevice>=0.4.4->mediapipe==0.10.8) (1.17.1)\n",
            "Requirement already satisfied: contourpy>=1.0.1 in /usr/local/lib/python3.11/dist-packages (from matplotlib->mediapipe==0.10.8) (1.3.2)\n",
            "Requirement already satisfied: cycler>=0.10 in /usr/local/lib/python3.11/dist-packages (from matplotlib->mediapipe==0.10.8) (0.12.1)\n",
            "Requirement already satisfied: fonttools>=4.22.0 in /usr/local/lib/python3.11/dist-packages (from matplotlib->mediapipe==0.10.8) (4.57.0)\n",
            "Requirement already satisfied: kiwisolver>=1.3.1 in /usr/local/lib/python3.11/dist-packages (from matplotlib->mediapipe==0.10.8) (1.4.8)\n",
            "Requirement already satisfied: packaging>=20.0 in /usr/local/lib/python3.11/dist-packages (from matplotlib->mediapipe==0.10.8) (24.2)\n",
            "Requirement already satisfied: pillow>=8 in /usr/local/lib/python3.11/dist-packages (from matplotlib->mediapipe==0.10.8) (11.2.1)\n",
            "Requirement already satisfied: pyparsing>=2.3.1 in /usr/local/lib/python3.11/dist-packages (from matplotlib->mediapipe==0.10.8) (3.2.3)\n",
            "Requirement already satisfied: python-dateutil>=2.7 in /usr/local/lib/python3.11/dist-packages (from matplotlib->mediapipe==0.10.8) (2.9.0.post0)\n",
            "Requirement already satisfied: pycparser in /usr/local/lib/python3.11/dist-packages (from CFFI>=1.0->sounddevice>=0.4.4->mediapipe==0.10.8) (2.22)\n",
            "Requirement already satisfied: six>=1.5 in /usr/local/lib/python3.11/dist-packages (from python-dateutil>=2.7->matplotlib->mediapipe==0.10.8) (1.17.0)\n",
            "Using cached mediapipe-0.10.8-cp311-cp311-manylinux_2_17_x86_64.manylinux2014_x86_64.whl (34.5 MB)\n",
            "Installing collected packages: mediapipe\n",
            "Successfully installed mediapipe-0.10.8\n"
          ]
        }
      ]
    },
    {
      "cell_type": "markdown",
      "source": [
        "# 1. Imports y configuración inicial"
      ],
      "metadata": {
        "id": "1rkGS4Fx4wnZ"
      }
    },
    {
      "cell_type": "code",
      "source": [
        "from mediapipe.python.solutions.hands import Hands, HAND_CONNECTIONS\n",
        "import mediapipe.python.solutions.drawing_utils as mp_drawing\n",
        "import cv2\n",
        "import numpy as np\n",
        "\n",
        "# Luego creas tu objeto Hands igual...\n",
        "hands = Hands(\n",
        "    max_num_hands=1,\n",
        "    min_detection_confidence=0.7,\n",
        "    min_tracking_confidence=0.5\n",
        ")\n",
        "\n"
      ],
      "metadata": {
        "id": "RimVxbpO4zN4"
      },
      "execution_count": 3,
      "outputs": []
    },
    {
      "cell_type": "markdown",
      "source": [
        "# 2. Funciones de análisis de gestos"
      ],
      "metadata": {
        "id": "3nXFIXKg475C"
      }
    },
    {
      "cell_type": "code",
      "source": [
        "def count_extended_fingers(lms):\n",
        "    \"\"\"\n",
        "    Cuenta cuántos dedos están extendidos.\n",
        "    lms: hand_landmarks de MediaPipe\n",
        "    \"\"\"\n",
        "    tips = [4, 8, 12, 16, 20]  # pulgar, índice, medio, anular, meñique\n",
        "    count = 0\n",
        "\n",
        "    # Dedos (no pulgar): la punta debe estar \"más arriba\" que la articulación de dos niveles atrás\n",
        "    for tip in tips[1:]:\n",
        "        if lms.landmark[tip].y < lms.landmark[tip-2].y:\n",
        "            count += 1\n",
        "\n",
        "    # Pulgar: en horizontal. Para mano derecha, x(4) < x(3) significa extendido\n",
        "    if lms.landmark[4].x < lms.landmark[3].x:\n",
        "        count += 1\n",
        "\n",
        "    return count\n",
        "\n",
        "def calc_distance(lm1, lm2, w, h):\n",
        "    \"\"\"\n",
        "    Calcula la distancia euclidiana entre dos landmarks normalizados\n",
        "    y retorna también sus coordenadas absolutas.\n",
        "    \"\"\"\n",
        "    x1, y1 = int(lm1.x * w), int(lm1.y * h)\n",
        "    x2, y2 = int(lm2.x * w), int(lm2.y * h)\n",
        "    dist = np.hypot(x2 - x1, y2 - y1)\n",
        "    return dist, (x1, y1), (x2, y2)\n"
      ],
      "metadata": {
        "id": "ASt1E7nU4-Jw"
      },
      "execution_count": 4,
      "outputs": []
    },
    {
      "cell_type": "markdown",
      "source": [
        "# 3. Loop principal: captura + detección de manos"
      ],
      "metadata": {
        "id": "tSns1dMd5Buh"
      }
    },
    {
      "cell_type": "code",
      "source": [
        "cap = cv2.VideoCapture(0)\n",
        "scene = 0\n",
        "bg_color = (30, 30, 30)      # color de fondo inicial\n",
        "last_switch = 0             # para debounce\n",
        "\n",
        "while cap.isOpened():\n",
        "    ret, frame = cap.read()\n",
        "    if not ret: break\n",
        "\n",
        "    frame = cv2.flip(frame, 1)\n",
        "    h, w, _ = frame.shape\n",
        "    rgb = cv2.cvtColor(frame, cv2.COLOR_BGR2RGB)\n",
        "    result = hands.process(rgb)\n",
        "\n",
        "    # Preparar \"lienzo\" de salida\n",
        "    canvas = np.zeros_like(frame)\n",
        "    canvas[:] = bg_color\n",
        "\n",
        "    idx_pos = None\n",
        "    fingers = 0\n",
        "    pinch_dist = None\n",
        "\n",
        "    if result.multi_hand_landmarks:\n",
        "        hand = result.multi_hand_landmarks[0]\n",
        "        mp_drawing.draw_landmarks(canvas, hand, mp_hands.HAND_CONNECTIONS)\n",
        "\n",
        "        # 1) Conteo de dedos\n",
        "        fingers = count_extended_fingers(hand)\n",
        "        cv2.putText(canvas, f\"Dedos: {fingers}\", (10,30),\n",
        "                    cv2.FONT_HERSHEY_SIMPLEX, 1, (255,255,255), 2)\n",
        "\n",
        "        # 2) Distancia entre índice (8) y pulgar (4)\n",
        "        dist, p1, p2 = calc_distance(hand.landmark[8], hand.landmark[4], w, h)\n",
        "        pinch_dist = int(dist)\n",
        "        cv2.line(canvas, p1, p2, (0,255,0), 2)\n",
        "        cv2.putText(canvas, f\"Dist: {pinch_dist}\", (10,70),\n",
        "                    cv2.FONT_HERSHEY_SIMPLEX, 1, (0,255,0), 2)\n",
        "\n",
        "        # 3) Posición índice para mover objeto\n",
        "        idx_pos = p1  # posición de la punta del índice\n",
        "\n",
        "        # 4) Gestos de acción:\n",
        "        now = cv2.getTickCount() / cv2.getTickFrequency()\n",
        "\n",
        "        # — Cambiar escena con palma abierta (5 dedos)\n",
        "        if fingers == 5 and now - last_switch > 1.0:\n",
        "            scene = (scene + 1) % 3\n",
        "            last_switch = now\n",
        "\n",
        "        # — Cambiar color de fondo con puño cerrado (0 dedos)\n",
        "        if fingers == 0:\n",
        "            bg_color = tuple(np.random.randint(50,256,3).tolist())\n",
        "\n",
        "    # 5) Dibujar objeto que sigue al índice\n",
        "    if idx_pos:\n",
        "        cv2.circle(canvas, idx_pos, 40, (255,255,255), -1)\n",
        "\n",
        "    # 6) Mostrar número de escena\n",
        "    cv2.putText(canvas, f\"Scene: {scene}\", (w-200,30),\n",
        "                cv2.FONT_HERSHEY_SIMPLEX, 1, (255,255,255), 2)\n",
        "\n",
        "    cv2.imshow(\"Manos + Gestos\", canvas)\n",
        "    if cv2.waitKey(1) & 0xFF == 27:  # Esc para salir\n",
        "        break\n",
        "\n",
        "cap.release()\n",
        "cv2.destroyAllWindows()\n"
      ],
      "metadata": {
        "colab": {
          "base_uri": "https://localhost:8080/",
          "height": 193
        },
        "id": "VhbItkVC5Egw",
        "outputId": "7726bbcc-788c-4cab-d494-ae8ae382b083"
      },
      "execution_count": 5,
      "outputs": [
        {
          "output_type": "error",
          "ename": "error",
          "evalue": "OpenCV(4.11.0) /io/opencv/modules/highgui/src/window.cpp:1295: error: (-2:Unspecified error) The function is not implemented. Rebuild the library with Windows, GTK+ 2.x or Cocoa support. If you are on Ubuntu or Debian, install libgtk2.0-dev and pkg-config, then re-run cmake or configure script in function 'cvDestroyAllWindows'\n",
          "traceback": [
            "\u001b[0;31m---------------------------------------------------------------------------\u001b[0m",
            "\u001b[0;31merror\u001b[0m                                     Traceback (most recent call last)",
            "\u001b[0;32m<ipython-input-5-2e6b185cf2ee>\u001b[0m in \u001b[0;36m<cell line: 0>\u001b[0;34m()\u001b[0m\n\u001b[1;32m     65\u001b[0m \u001b[0;34m\u001b[0m\u001b[0m\n\u001b[1;32m     66\u001b[0m \u001b[0mcap\u001b[0m\u001b[0;34m.\u001b[0m\u001b[0mrelease\u001b[0m\u001b[0;34m(\u001b[0m\u001b[0;34m)\u001b[0m\u001b[0;34m\u001b[0m\u001b[0;34m\u001b[0m\u001b[0m\n\u001b[0;32m---> 67\u001b[0;31m \u001b[0mcv2\u001b[0m\u001b[0;34m.\u001b[0m\u001b[0mdestroyAllWindows\u001b[0m\u001b[0;34m(\u001b[0m\u001b[0;34m)\u001b[0m\u001b[0;34m\u001b[0m\u001b[0;34m\u001b[0m\u001b[0m\n\u001b[0m",
            "\u001b[0;31merror\u001b[0m: OpenCV(4.11.0) /io/opencv/modules/highgui/src/window.cpp:1295: error: (-2:Unspecified error) The function is not implemented. Rebuild the library with Windows, GTK+ 2.x or Cocoa support. If you are on Ubuntu or Debian, install libgtk2.0-dev and pkg-config, then re-run cmake or configure script in function 'cvDestroyAllWindows'\n"
          ]
        }
      ]
    }
  ]
}