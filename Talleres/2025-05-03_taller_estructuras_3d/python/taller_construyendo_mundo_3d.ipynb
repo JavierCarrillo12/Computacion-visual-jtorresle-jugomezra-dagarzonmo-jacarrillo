{
 "cells": [
  {
   "cell_type": "markdown",
   "id": "c0b3275e",
   "metadata": {},
   "source": [
    "# **Taller - Construyendo el Mundo 3D: Vértices, Aristas y Caras**"
   ]
  },
  {
   "cell_type": "code",
   "execution_count": null,
   "id": "2a433407",
   "metadata": {},
   "outputs": [],
   "source": [
    "!pip install trimesh pyrender imageio"
   ]
  },
  {
   "cell_type": "code",
   "execution_count": null,
   "id": "a026a814",
   "metadata": {},
   "outputs": [],
   "source": [
    "import trimesh\n",
    "import numpy as np\n",
    "import pyrender\n",
    "import imageio\n",
    "import os"
   ]
  },
  {
   "cell_type": "markdown",
   "id": "ce76422d",
   "metadata": {},
   "source": [
    "### *Cargar modelo*"
   ]
  },
  {
   "cell_type": "code",
   "execution_count": null,
   "id": "3c5df247",
   "metadata": {},
   "outputs": [],
   "source": [
    "malla = trimesh.load(\"../bunny.obj\")"
   ]
  },
  {
   "cell_type": "markdown",
   "id": "47d3dad7",
   "metadata": {},
   "source": [
    "## **Información del modelo**"
   ]
  },
  {
   "cell_type": "code",
   "execution_count": null,
   "id": "6cbf475d",
   "metadata": {},
   "outputs": [],
   "source": [
    "print(f\"Vértices: {len(malla.vertices)}\")\n",
    "print(f\"Caras: {len(malla.faces)}\")\n",
    "print(f\"Aristas (estimadas): {len(malla.edges_unique)}\")"
   ]
  },
  {
   "cell_type": "markdown",
   "id": "06ff9213",
   "metadata": {},
   "source": [
    "### *Crear carpeta de resultados*"
   ]
  },
  {
   "cell_type": "code",
   "execution_count": null,
   "id": "c3b85919",
   "metadata": {},
   "outputs": [],
   "source": [
    "os.makedirs(\"resultados\", exist_ok=True)"
   ]
  },
  {
   "cell_type": "markdown",
   "id": "b7ffc688",
   "metadata": {},
   "source": [
    "### *Inicializar renderizador*"
   ]
  },
  {
   "cell_type": "code",
   "execution_count": null,
   "id": "8aa63f0a",
   "metadata": {},
   "outputs": [],
   "source": [
    "viewer = pyrender.OffscreenRenderer(512, 512)"
   ]
  },
  {
   "cell_type": "markdown",
   "id": "3fa609bd",
   "metadata": {},
   "source": [
    "## **Renderizado de la imagen**"
   ]
  },
  {
   "cell_type": "code",
   "execution_count": null,
   "id": "e8363712",
   "metadata": {},
   "outputs": [
    {
     "name": "stdout",
     "output_type": "stream",
     "text": [
      "Modelo cargado correctamente\n",
      "Vértices: 34834\n",
      "Caras: 69451\n",
      "Aristas (estimadas): 104288\n"
     ]
    }
   ],
   "source": [
    "scene = pyrender.Scene()\n",
    "malla_render = pyrender.Mesh.from_trimesh(malla)\n",
    "scene.add(malla_render)\n",
    "\n",
    "# Añadir cámara a la escena\n",
    "cam = pyrender.PerspectiveCamera(yfov=np.pi / 3.0)\n",
    "cam_pose = np.array([\n",
    "    [1.0, 0.0, 0.0, 0.0],\n",
    "    [0.0, 1.0, 0.0, -0.2],\n",
    "    [0.0, 0.0, 1.0, 1.0],\n",
    "    [0.0, 0.0, 0.0, 1.0],\n",
    "])\n",
    "scene.add(cam, pose=cam_pose)\n",
    "\n",
    "img, _ = viewer.render(scene)\n",
    "imageio.imwrite(\"resultados/vista_bunny.png\", img)\n",
    "\n",
    "\n"
   ]
  },
  {
   "cell_type": "markdown",
   "id": "877ca55b",
   "metadata": {},
   "source": [
    "## **Crear GIF**"
   ]
  },
  {
   "cell_type": "code",
   "execution_count": null,
   "id": "2d9ae122",
   "metadata": {},
   "outputs": [],
   "source": [
    "frames = []\n",
    "angles = np.linspace(0, 2 * np.pi, 12)\n",
    "\n",
    "for ang in angles:\n",
    "    rotated = malla.copy()\n",
    "    rot_matrix = trimesh.transformations.rotation_matrix(ang, [0, 1, 0])\n",
    "    rotated.apply_transform(rot_matrix)\n",
    "    \n",
    "    scene = pyrender.Scene()\n",
    "    mesh_rotado = pyrender.Mesh.from_trimesh(rotated)\n",
    "    scene.add(mesh_rotado)\n",
    "    scene.add(cam, pose=cam_pose)\n",
    "\n",
    "    frame, _ = viewer.render(scene)\n",
    "    frames.append(frame)\n",
    "\n",
    "imageio.mimsave(\"resultados/bunny_rotando.gif\", frames, duration=300)"
   ]
  }
 ],
 "metadata": {
  "kernelspec": {
   "display_name": "Python 3",
   "language": "python",
   "name": "python3"
  },
  "language_info": {
   "codemirror_mode": {
    "name": "ipython",
    "version": 3
   },
   "file_extension": ".py",
   "mimetype": "text/x-python",
   "name": "python",
   "nbconvert_exporter": "python",
   "pygments_lexer": "ipython3",
   "version": "3.12.10"
  }
 },
 "nbformat": 4,
 "nbformat_minor": 5
}
