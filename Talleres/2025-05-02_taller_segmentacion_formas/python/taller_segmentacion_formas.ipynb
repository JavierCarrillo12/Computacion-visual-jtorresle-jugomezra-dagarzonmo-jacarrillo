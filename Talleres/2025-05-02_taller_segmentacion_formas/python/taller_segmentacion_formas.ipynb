{
 "cells": [
  {
   "cell_type": "markdown",
   "id": "83e8ce29",
   "metadata": {},
   "source": [
    "# **Taller Segmentación de Formas**"
   ]
  },
  {
   "cell_type": "code",
   "execution_count": 5,
   "id": "4ac07e18",
   "metadata": {},
   "outputs": [
    {
     "name": "stdout",
     "output_type": "stream",
     "text": [
      "Requirement already satisfied: opencv-python in /home/tobii1001/anaconda3/lib/python3.12/site-packages (4.11.0.86)\n",
      "Requirement already satisfied: matplotlib in /home/tobii1001/anaconda3/lib/python3.12/site-packages (3.8.4)\n",
      "Requirement already satisfied: imageio in /home/tobii1001/anaconda3/lib/python3.12/site-packages (2.33.1)\n",
      "Requirement already satisfied: numpy>=1.21.2 in /home/tobii1001/anaconda3/lib/python3.12/site-packages (from opencv-python) (1.26.4)\n",
      "Requirement already satisfied: contourpy>=1.0.1 in /home/tobii1001/anaconda3/lib/python3.12/site-packages (from matplotlib) (1.2.0)\n",
      "Requirement already satisfied: cycler>=0.10 in /home/tobii1001/anaconda3/lib/python3.12/site-packages (from matplotlib) (0.11.0)\n",
      "Requirement already satisfied: fonttools>=4.22.0 in /home/tobii1001/anaconda3/lib/python3.12/site-packages (from matplotlib) (4.51.0)\n",
      "Requirement already satisfied: kiwisolver>=1.3.1 in /home/tobii1001/anaconda3/lib/python3.12/site-packages (from matplotlib) (1.4.4)\n",
      "Requirement already satisfied: packaging>=20.0 in /home/tobii1001/anaconda3/lib/python3.12/site-packages (from matplotlib) (23.2)\n",
      "Requirement already satisfied: pillow>=8 in /home/tobii1001/anaconda3/lib/python3.12/site-packages (from matplotlib) (10.4.0)\n",
      "Requirement already satisfied: pyparsing>=2.3.1 in /home/tobii1001/anaconda3/lib/python3.12/site-packages (from matplotlib) (3.0.9)\n",
      "Requirement already satisfied: python-dateutil>=2.7 in /home/tobii1001/anaconda3/lib/python3.12/site-packages (from matplotlib) (2.9.0.post0)\n",
      "Requirement already satisfied: six>=1.5 in /home/tobii1001/anaconda3/lib/python3.12/site-packages (from python-dateutil>=2.7->matplotlib) (1.16.0)\n"
     ]
    }
   ],
   "source": [
    "!pip install opencv-python matplotlib imageio"
   ]
  },
  {
   "cell_type": "code",
   "execution_count": 6,
   "id": "d52aa4bf",
   "metadata": {},
   "outputs": [],
   "source": [
    "import cv2\n",
    "import numpy as np\n",
    "import matplotlib.pyplot as plt\n",
    "import os\n",
    "import imageio"
   ]
  },
  {
   "cell_type": "markdown",
   "id": "f3268596",
   "metadata": {},
   "source": [
    "### *Crear carpeta de salida*"
   ]
  },
  {
   "cell_type": "code",
   "execution_count": 7,
   "id": "30f5a772",
   "metadata": {},
   "outputs": [],
   "source": [
    "os.makedirs(\"resultados\", exist_ok=True)"
   ]
  },
  {
   "cell_type": "markdown",
   "id": "f49bf09f",
   "metadata": {},
   "source": [
    "### *Cargar imagen*"
   ]
  },
  {
   "cell_type": "code",
   "execution_count": 8,
   "id": "101e3f79",
   "metadata": {},
   "outputs": [],
   "source": [
    "img = cv2.imread(\"flor.jpg\")\n",
    "if img is None:\n",
    "    raise FileNotFoundError(\"No se encontró flor.jpg en el directorio.\")"
   ]
  },
  {
   "cell_type": "markdown",
   "id": "451c8b31",
   "metadata": {},
   "source": [
    "## **1. Convertir a escala de grises**"
   ]
  },
  {
   "cell_type": "code",
   "execution_count": 9,
   "id": "e66e9a0f",
   "metadata": {},
   "outputs": [
    {
     "data": {
      "text/plain": [
       "True"
      ]
     },
     "execution_count": 9,
     "metadata": {},
     "output_type": "execute_result"
    }
   ],
   "source": [
    "gray = cv2.cvtColor(img, cv2.COLOR_BGR2GRAY)\n",
    "cv2.imwrite(\"resultados/01_gris.jpg\", gray)"
   ]
  },
  {
   "cell_type": "markdown",
   "id": "0853f3c1",
   "metadata": {},
   "source": [
    "## **2. Binarización fija**"
   ]
  },
  {
   "cell_type": "code",
   "execution_count": 10,
   "id": "43fa84f8",
   "metadata": {},
   "outputs": [
    {
     "data": {
      "text/plain": [
       "True"
      ]
     },
     "execution_count": 10,
     "metadata": {},
     "output_type": "execute_result"
    }
   ],
   "source": [
    "_, thresh_fijo = cv2.threshold(gray, 127, 255, cv2.THRESH_BINARY_INV)\n",
    "cv2.imwrite(\"resultados/02_binarizacion_fija.jpg\", thresh_fijo)"
   ]
  },
  {
   "cell_type": "markdown",
   "id": "9b6ec26e",
   "metadata": {},
   "source": [
    "## **3. Binarización adaptativa**"
   ]
  },
  {
   "cell_type": "code",
   "execution_count": 11,
   "id": "c8fa9c0b",
   "metadata": {},
   "outputs": [
    {
     "data": {
      "text/plain": [
       "True"
      ]
     },
     "execution_count": 11,
     "metadata": {},
     "output_type": "execute_result"
    }
   ],
   "source": [
    "thresh_adapt = cv2.adaptiveThreshold(gray, 255, cv2.ADAPTIVE_THRESH_MEAN_C,\n",
    "                                     cv2.THRESH_BINARY_INV, 11, 5)\n",
    "cv2.imwrite(\"resultados/03_binarizacion_adaptativa.jpg\", thresh_adapt)"
   ]
  },
  {
   "cell_type": "markdown",
   "id": "212e9272",
   "metadata": {},
   "source": [
    "## **4. Detectar contornos**"
   ]
  },
  {
   "cell_type": "code",
   "execution_count": 12,
   "id": "f93541fe",
   "metadata": {},
   "outputs": [
    {
     "data": {
      "text/plain": [
       "True"
      ]
     },
     "execution_count": 12,
     "metadata": {},
     "output_type": "execute_result"
    }
   ],
   "source": [
    "contornos, _ = cv2.findContours(thresh_adapt, cv2.RETR_EXTERNAL, cv2.CHAIN_APPROX_SIMPLE)\n",
    "# contornos\n",
    "img_contornos = img.copy()\n",
    "\n",
    "areas = []\n",
    "perimetros = []\n",
    "for cnt in contornos:\n",
    "    area = cv2.contourArea(cnt)\n",
    "    perim = cv2.arcLength(cnt, True)\n",
    "    if area < 100: continue  # descartar ruido pequeño\n",
    "\n",
    "    areas.append(area)\n",
    "    perimetros.append(perim)\n",
    "\n",
    "    # Dibujar contorno\n",
    "    cv2.drawContours(img_contornos, [cnt], -1, (0, 255, 0), 2)\n",
    "\n",
    "    # Bounding box\n",
    "    x, y, w, h = cv2.boundingRect(cnt)\n",
    "    cv2.rectangle(img_contornos, (x, y), (x+w, y+h), (255, 0, 0), 1)\n",
    "\n",
    "    # Centroide\n",
    "    M = cv2.moments(cnt)\n",
    "    if M[\"m00\"] != 0:\n",
    "        cx = int(M[\"m10\"] / M[\"m00\"])\n",
    "        cy = int(M[\"m01\"] / M[\"m00\"])\n",
    "        cv2.circle(img_contornos, (cx, cy), 3, (0, 0, 255), -1)\n",
    "        cv2.putText(img_contornos, f\"({cx},{cy})\", (cx + 5, cy),\n",
    "                    cv2.FONT_HERSHEY_SIMPLEX, 0.3, (0, 0, 0), 1)\n",
    "\n",
    "cv2.imwrite(\"resultados/04_contornos_dibujados.jpg\", img_contornos)"
   ]
  },
  {
   "cell_type": "markdown",
   "id": "0b2f8c8c",
   "metadata": {},
   "source": [
    "## **5. Calcular métricas**"
   ]
  },
  {
   "cell_type": "code",
   "execution_count": 13,
   "id": "4b3665a0",
   "metadata": {},
   "outputs": [
    {
     "name": "stdout",
     "output_type": "stream",
     "text": [
      "Número de formas: 41\n",
      "Área promedio: 545.04\n",
      "Perímetro promedio: 356.60\n"
     ]
    }
   ],
   "source": [
    "num_formas = len(areas)\n",
    "area_prom = np.mean(areas) if areas else 0\n",
    "perim_prom = np.mean(perimetros) if perimetros else 0\n",
    "\n",
    "print(f\"Número de formas: {num_formas}\")\n",
    "print(f\"Área promedio: {area_prom:.2f}\")\n",
    "print(f\"Perímetro promedio: {perim_prom:.2f}\")"
   ]
  },
  {
   "cell_type": "markdown",
   "id": "f68ac605",
   "metadata": {},
   "source": [
    "## **6. Crear GIF**"
   ]
  },
  {
   "cell_type": "code",
   "execution_count": null,
   "id": "f03ea660",
   "metadata": {},
   "outputs": [],
   "source": [
    "gif_imgs = [\n",
    "    \"resultados/01_gris.jpg\",\n",
    "    \"resultados/02_binarizacion_fija.jpg\",\n",
    "    \"resultados/03_binarizacion_adaptativa.jpg\",\n",
    "    \"resultados/04_contornos_dibujados.jpg\"\n",
    "]\n",
    "\n",
    "base_shape = cv2.imread(gif_imgs[0]).shape[:2]  # alto, ancho\n",
    "frames = []\n",
    "for path in gif_imgs:\n",
    "    img = cv2.imread(path)\n",
    "    img_resized = cv2.resize(img, (base_shape[1], base_shape[0]))\n",
    "    frames.append(img_resized)\n",
    "imageio.mimsave(\"resultados/segmentacion.gif\", frames, duration=2000)"
   ]
  }
 ],
 "metadata": {
  "kernelspec": {
   "display_name": "base",
   "language": "python",
   "name": "python3"
  },
  "language_info": {
   "codemirror_mode": {
    "name": "ipython",
    "version": 3
   },
   "file_extension": ".py",
   "mimetype": "text/x-python",
   "name": "python",
   "nbconvert_exporter": "python",
   "pygments_lexer": "ipython3",
   "version": "3.12.4"
  }
 },
 "nbformat": 4,
 "nbformat_minor": 5
}
