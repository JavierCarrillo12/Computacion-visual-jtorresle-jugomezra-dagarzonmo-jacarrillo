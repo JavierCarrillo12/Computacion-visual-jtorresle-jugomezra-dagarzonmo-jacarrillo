{
 "cells": [
  {
   "cell_type": "markdown",
   "id": "afce8dcf",
   "metadata": {},
   "source": [
    "# **Taller - De Píxeles a Coordenadas: Explorando la Imagen como Matriz**"
   ]
  },
  {
   "cell_type": "code",
   "execution_count": 1,
   "id": "8b9cc476",
   "metadata": {},
   "outputs": [
    {
     "name": "stdout",
     "output_type": "stream",
     "text": [
      "Requirement already satisfied: opencv-python in /home/tobii1001/anaconda3/lib/python3.12/site-packages (4.11.0.86)\n",
      "Requirement already satisfied: matplotlib in /home/tobii1001/anaconda3/lib/python3.12/site-packages (3.8.4)\n",
      "Requirement already satisfied: imageio in /home/tobii1001/anaconda3/lib/python3.12/site-packages (2.33.1)\n",
      "Requirement already satisfied: numpy>=1.21.2 in /home/tobii1001/anaconda3/lib/python3.12/site-packages (from opencv-python) (1.26.4)\n",
      "Requirement already satisfied: contourpy>=1.0.1 in /home/tobii1001/anaconda3/lib/python3.12/site-packages (from matplotlib) (1.2.0)\n",
      "Requirement already satisfied: cycler>=0.10 in /home/tobii1001/anaconda3/lib/python3.12/site-packages (from matplotlib) (0.11.0)\n",
      "Requirement already satisfied: fonttools>=4.22.0 in /home/tobii1001/anaconda3/lib/python3.12/site-packages (from matplotlib) (4.51.0)\n",
      "Requirement already satisfied: kiwisolver>=1.3.1 in /home/tobii1001/anaconda3/lib/python3.12/site-packages (from matplotlib) (1.4.4)\n",
      "Requirement already satisfied: packaging>=20.0 in /home/tobii1001/anaconda3/lib/python3.12/site-packages (from matplotlib) (23.2)\n",
      "Requirement already satisfied: pillow>=8 in /home/tobii1001/anaconda3/lib/python3.12/site-packages (from matplotlib) (10.4.0)\n",
      "Requirement already satisfied: pyparsing>=2.3.1 in /home/tobii1001/anaconda3/lib/python3.12/site-packages (from matplotlib) (3.0.9)\n",
      "Requirement already satisfied: python-dateutil>=2.7 in /home/tobii1001/anaconda3/lib/python3.12/site-packages (from matplotlib) (2.9.0.post0)\n",
      "Requirement already satisfied: six>=1.5 in /home/tobii1001/anaconda3/lib/python3.12/site-packages (from python-dateutil>=2.7->matplotlib) (1.16.0)\n"
     ]
    }
   ],
   "source": [
    "!pip install opencv-python matplotlib imageio\n"
   ]
  },
  {
   "cell_type": "code",
   "execution_count": 2,
   "id": "f0172fd3",
   "metadata": {},
   "outputs": [],
   "source": [
    "import cv2\n",
    "import numpy as np\n",
    "import matplotlib.pyplot as plt\n",
    "import os\n",
    "import imageio"
   ]
  },
  {
   "cell_type": "markdown",
   "id": "6463d1e6",
   "metadata": {},
   "source": [
    "### *Crear carpeta de salida*"
   ]
  },
  {
   "cell_type": "code",
   "execution_count": 3,
   "id": "5a178d0e",
   "metadata": {},
   "outputs": [],
   "source": [
    "os.makedirs(\"resultados\", exist_ok=True)"
   ]
  },
  {
   "cell_type": "markdown",
   "id": "017fd949",
   "metadata": {},
   "source": [
    "### *Cargar imagen desde carpeta anterior*"
   ]
  },
  {
   "cell_type": "code",
   "execution_count": 4,
   "id": "eeabb1af",
   "metadata": {},
   "outputs": [],
   "source": [
    "img = cv2.imread(\"../ignus.jpg\")\n",
    "if img is None:\n",
    "    raise FileNotFoundError(\"No se encontró ../ignus.jpg.\")"
   ]
  },
  {
   "cell_type": "markdown",
   "id": "34359402",
   "metadata": {},
   "source": [
    "### *Convertir a RGB para visualización*"
   ]
  },
  {
   "cell_type": "code",
   "execution_count": 5,
   "id": "91f3001a",
   "metadata": {},
   "outputs": [
    {
     "data": {
      "text/plain": [
       "True"
      ]
     },
     "execution_count": 5,
     "metadata": {},
     "output_type": "execute_result"
    }
   ],
   "source": [
    "img_rgb = cv2.cvtColor(img, cv2.COLOR_BGR2RGB)\n",
    "cv2.imwrite(\"resultados/01_original.jpg\", img)"
   ]
  },
  {
   "cell_type": "markdown",
   "id": "ebb745e0",
   "metadata": {},
   "source": [
    "### *Mostrar información básica*"
   ]
  },
  {
   "cell_type": "code",
   "execution_count": 6,
   "id": "054bf2b1",
   "metadata": {},
   "outputs": [
    {
     "name": "stdout",
     "output_type": "stream",
     "text": [
      "Dimensiones de la imagen: (720, 1280, 3)\n"
     ]
    }
   ],
   "source": [
    "print(\"Dimensiones de la imagen:\", img.shape)"
   ]
  },
  {
   "cell_type": "markdown",
   "id": "39be845b",
   "metadata": {},
   "source": [
    "## **1. Slicing - Extraer y modificar una región**"
   ]
  },
  {
   "cell_type": "code",
   "execution_count": 7,
   "id": "8b86a709",
   "metadata": {},
   "outputs": [
    {
     "data": {
      "text/plain": [
       "True"
      ]
     },
     "execution_count": 7,
     "metadata": {},
     "output_type": "execute_result"
    }
   ],
   "source": [
    "region = img_rgb[0:100, 0:100]\n",
    "img_modificada = img_rgb.copy()\n",
    "img_modificada[0:100, 0:100] = (255, 0, 0)  # rojo\n",
    "cv2.imwrite(\"resultados/02_slicing.jpg\", cv2.cvtColor(img_modificada, cv2.COLOR_RGB2BGR))"
   ]
  },
  {
   "cell_type": "markdown",
   "id": "95c86268",
   "metadata": {},
   "source": [
    "## **2. Separar canales RGB**"
   ]
  },
  {
   "cell_type": "code",
   "execution_count": 8,
   "id": "53cad96a",
   "metadata": {},
   "outputs": [
    {
     "data": {
      "text/plain": [
       "True"
      ]
     },
     "execution_count": 8,
     "metadata": {},
     "output_type": "execute_result"
    }
   ],
   "source": [
    "R, G, B = cv2.split(img_rgb)\n",
    "cv2.imwrite(\"resultados/03_R.jpg\", R)\n",
    "cv2.imwrite(\"resultados/04_G.jpg\", G)\n",
    "cv2.imwrite(\"resultados/05_B.jpg\", B)"
   ]
  },
  {
   "cell_type": "markdown",
   "id": "124c4571",
   "metadata": {},
   "source": [
    "## **3. Convertir a HSV y separar canales**"
   ]
  },
  {
   "cell_type": "code",
   "execution_count": 9,
   "id": "ddeaea95",
   "metadata": {},
   "outputs": [
    {
     "data": {
      "text/plain": [
       "True"
      ]
     },
     "execution_count": 9,
     "metadata": {},
     "output_type": "execute_result"
    }
   ],
   "source": [
    "hsv = cv2.cvtColor(img_rgb, cv2.COLOR_RGB2HSV)\n",
    "H, S, V = cv2.split(hsv)\n",
    "cv2.imwrite(\"resultados/06_H.jpg\", H)\n",
    "cv2.imwrite(\"resultados/07_S.jpg\", S)\n",
    "cv2.imwrite(\"resultados/08_V.jpg\", V)"
   ]
  },
  {
   "cell_type": "markdown",
   "id": "d5e642b0",
   "metadata": {},
   "source": [
    "## **4. Modificar brillo y contraste manualmente**"
   ]
  },
  {
   "cell_type": "code",
   "execution_count": 10,
   "id": "818505d0",
   "metadata": {},
   "outputs": [
    {
     "data": {
      "text/plain": [
       "True"
      ]
     },
     "execution_count": 10,
     "metadata": {},
     "output_type": "execute_result"
    }
   ],
   "source": [
    "brillo_manual = np.clip(img_rgb + 50, 0, 255).astype(np.uint8)\n",
    "contraste_manual = np.clip(1.3 * img_rgb - 30, 0, 255).astype(np.uint8)\n",
    "cv2.imwrite(\"resultados/09_brillo_manual.jpg\", cv2.cvtColor(brillo_manual, cv2.COLOR_RGB2BGR))\n",
    "cv2.imwrite(\"resultados/10_contraste_manual.jpg\", cv2.cvtColor(contraste_manual, cv2.COLOR_RGB2BGR))"
   ]
  },
  {
   "cell_type": "markdown",
   "id": "7f6bed2f",
   "metadata": {},
   "source": [
    "## **5. Ajuste con funciones de OpenCV**"
   ]
  },
  {
   "cell_type": "code",
   "execution_count": 11,
   "id": "1b676e68",
   "metadata": {},
   "outputs": [
    {
     "data": {
      "text/plain": [
       "True"
      ]
     },
     "execution_count": 11,
     "metadata": {},
     "output_type": "execute_result"
    }
   ],
   "source": [
    "img_brightness = cv2.convertScaleAbs(img_rgb, alpha=1, beta=50)       # brillo\n",
    "img_contrast = cv2.convertScaleAbs(img_rgb, alpha=1.3, beta=0)        # contraste\n",
    "cv2.imwrite(\"resultados/11_brillo_cv.jpg\", cv2.cvtColor(img_brightness, cv2.COLOR_RGB2BGR))\n",
    "cv2.imwrite(\"resultados/12_contraste_cv.jpg\", cv2.cvtColor(img_contrast, cv2.COLOR_RGB2BGR))"
   ]
  },
  {
   "cell_type": "markdown",
   "id": "fecde603",
   "metadata": {},
   "source": [
    "## **6. Histogramas con matplotlib**"
   ]
  },
  {
   "cell_type": "code",
   "execution_count": 12,
   "id": "199b6142",
   "metadata": {},
   "outputs": [],
   "source": [
    "def guardar_histograma(canal, nombre, color):\n",
    "    plt.figure()\n",
    "    plt.hist(canal.ravel(), bins=256, color=color, alpha=0.7)\n",
    "    plt.title(f\"Histograma - Canal {nombre}\")\n",
    "    plt.xlabel(\"Intensidad\")\n",
    "    plt.ylabel(\"Frecuencia\")\n",
    "    plt.savefig(f\"resultados/hist_{nombre}.png\")\n",
    "    plt.close()\n",
    "\n",
    "guardar_histograma(R, \"R\", \"red\")\n",
    "guardar_histograma(G, \"G\", \"green\")\n",
    "guardar_histograma(B, \"B\", \"blue\")"
   ]
  },
  {
   "cell_type": "markdown",
   "id": "dc241545",
   "metadata": {},
   "source": [
    "## **7. Histogramas con cv2.calcHist()**"
   ]
  },
  {
   "cell_type": "code",
   "execution_count": 13,
   "id": "b64adbb4",
   "metadata": {},
   "outputs": [],
   "source": [
    "def histograma_cv2(canal, nombre, color):\n",
    "    hist = cv2.calcHist([canal], [0], None, [256], [0, 256])\n",
    "    plt.figure()\n",
    "    plt.plot(hist, color=color)\n",
    "    plt.title(f\"Histograma con cv2 - {nombre}\")\n",
    "    plt.xlabel(\"Intensidad\")\n",
    "    plt.ylabel(\"Frecuencia\")\n",
    "    plt.savefig(f\"resultados/hist_cv2_{nombre}.png\")\n",
    "    plt.close()\n",
    "histograma_cv2(R, \"R\", \"red\")\n",
    "histograma_cv2(G, \"G\", \"green\")\n",
    "histograma_cv2(B, \"B\", \"blue\")"
   ]
  },
  {
   "cell_type": "markdown",
   "id": "72a6472f",
   "metadata": {},
   "source": [
    "## **8. Crear GIF resumen**"
   ]
  },
  {
   "cell_type": "code",
   "execution_count": 14,
   "id": "be33e8b3",
   "metadata": {},
   "outputs": [
    {
     "name": "stderr",
     "output_type": "stream",
     "text": [
      "/tmp/ipykernel_1646/390491341.py:10: DeprecationWarning: Starting with ImageIO v3 the behavior of this function will switch to that of iio.v3.imread. To keep the current behavior (and make this warning disappear) use `import imageio.v2 as imageio` or call `imageio.v2.imread` directly.\n",
      "  frames = [imageio.imread(p) for p in gif_imgs]\n"
     ]
    }
   ],
   "source": [
    "gif_imgs = [\n",
    "    \"resultados/01_original.jpg\",\n",
    "    \"resultados/02_slicing.jpg\",\n",
    "    \"resultados/09_brillo_manual.jpg\",\n",
    "    \"resultados/10_contraste_manual.jpg\",\n",
    "    \"resultados/11_brillo_cv.jpg\",\n",
    "    \"resultados/12_contraste_cv.jpg\"\n",
    "]\n",
    "\n",
    "frames = [imageio.imread(p) for p in gif_imgs]\n",
    "imageio.mimsave(\"resultados/transformaciones.gif\", frames, duration=2000)"
   ]
  }
 ],
 "metadata": {
  "kernelspec": {
   "display_name": "base",
   "language": "python",
   "name": "python3"
  },
  "language_info": {
   "codemirror_mode": {
    "name": "ipython",
    "version": 3
   },
   "file_extension": ".py",
   "mimetype": "text/x-python",
   "name": "python",
   "nbconvert_exporter": "python",
   "pygments_lexer": "ipython3",
   "version": "3.12.4"
  }
 },
 "nbformat": 4,
 "nbformat_minor": 5
}
