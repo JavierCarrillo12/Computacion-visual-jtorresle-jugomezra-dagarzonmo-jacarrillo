{
 "cells": [
  {
   "cell_type": "markdown",
   "id": "01d0f8f8",
   "metadata": {},
   "source": [
    "# **Taller Ojos Digitales Visión Artificial**"
   ]
  },
  {
   "cell_type": "code",
   "execution_count": 1,
   "id": "6738279e",
   "metadata": {},
   "outputs": [
    {
     "name": "stdout",
     "output_type": "stream",
     "text": [
      "Requirement already satisfied: opencv-python in /home/tobii1001/anaconda3/lib/python3.12/site-packages (4.11.0.86)\n",
      "Requirement already satisfied: imageio in /home/tobii1001/anaconda3/lib/python3.12/site-packages (2.33.1)\n",
      "Requirement already satisfied: matplotlib in /home/tobii1001/anaconda3/lib/python3.12/site-packages (3.8.4)\n",
      "Requirement already satisfied: numpy>=1.21.2 in /home/tobii1001/anaconda3/lib/python3.12/site-packages (from opencv-python) (1.26.4)\n",
      "Requirement already satisfied: pillow>=8.3.2 in /home/tobii1001/anaconda3/lib/python3.12/site-packages (from imageio) (10.4.0)\n",
      "Requirement already satisfied: contourpy>=1.0.1 in /home/tobii1001/anaconda3/lib/python3.12/site-packages (from matplotlib) (1.2.0)\n",
      "Requirement already satisfied: cycler>=0.10 in /home/tobii1001/anaconda3/lib/python3.12/site-packages (from matplotlib) (0.11.0)\n",
      "Requirement already satisfied: fonttools>=4.22.0 in /home/tobii1001/anaconda3/lib/python3.12/site-packages (from matplotlib) (4.51.0)\n",
      "Requirement already satisfied: kiwisolver>=1.3.1 in /home/tobii1001/anaconda3/lib/python3.12/site-packages (from matplotlib) (1.4.4)\n",
      "Requirement already satisfied: packaging>=20.0 in /home/tobii1001/anaconda3/lib/python3.12/site-packages (from matplotlib) (23.2)\n",
      "Requirement already satisfied: pyparsing>=2.3.1 in /home/tobii1001/anaconda3/lib/python3.12/site-packages (from matplotlib) (3.0.9)\n",
      "Requirement already satisfied: python-dateutil>=2.7 in /home/tobii1001/anaconda3/lib/python3.12/site-packages (from matplotlib) (2.9.0.post0)\n",
      "Requirement already satisfied: six>=1.5 in /home/tobii1001/anaconda3/lib/python3.12/site-packages (from python-dateutil>=2.7->matplotlib) (1.16.0)\n"
     ]
    }
   ],
   "source": [
    "!pip install opencv-python imageio matplotlib"
   ]
  },
  {
   "cell_type": "code",
   "execution_count": 2,
   "id": "fb871140",
   "metadata": {},
   "outputs": [],
   "source": [
    "import cv2\n",
    "import numpy as np\n",
    "import os\n",
    "import imageio\n",
    "import matplotlib.pyplot as plt"
   ]
  },
  {
   "cell_type": "markdown",
   "id": "70bf4237",
   "metadata": {},
   "source": [
    "### *Crear carpeta de salida*"
   ]
  },
  {
   "cell_type": "code",
   "execution_count": 3,
   "id": "c0079f67",
   "metadata": {},
   "outputs": [],
   "source": [
    "os.makedirs(\"resultados\", exist_ok=True)"
   ]
  },
  {
   "cell_type": "markdown",
   "id": "80b2d814",
   "metadata": {},
   "source": [
    "## **1. Cargar imagen**"
   ]
  },
  {
   "cell_type": "code",
   "execution_count": null,
   "id": "ba827170",
   "metadata": {},
   "outputs": [],
   "source": [
    "img_color = cv2.imread(\"../ignus.jpg\")\n",
    "if img_color is None:\n",
    "    raise FileNotFoundError(\"No se encontró ../ignus.jpg\")\n",
    "img_gray = cv2.cvtColor(img_color, cv2.COLOR_BGR2GRAY)\n",
    "cv2.imwrite(\"resultados/01_gris.jpg\", img_gray)\n",
    "cv2.imshow(\"Escala de grises\", img_gray)\n",
    "cv2.waitKey(0)\n",
    "cv2.destroyAllWindows()"
   ]
  },
  {
   "cell_type": "markdown",
   "id": "cbc5de46",
   "metadata": {},
   "source": [
    "## **2. Filtro de suavizado (Blur)**"
   ]
  },
  {
   "cell_type": "code",
   "execution_count": null,
   "id": "1ca59a1e",
   "metadata": {},
   "outputs": [],
   "source": [
    "blur = cv2.GaussianBlur(img_gray, (5, 5), 0)\n",
    "cv2.imwrite(\"resultados/02_blur.jpg\", blur)\n",
    "cv2.imshow(\"Blur\", blur)\n",
    "cv2.waitKey(0)\n",
    "cv2.destroyAllWindows()"
   ]
  },
  {
   "cell_type": "markdown",
   "id": "2be5de16",
   "metadata": {},
   "source": [
    "## **3. Filtro de afilado (Sharpen)**"
   ]
  },
  {
   "cell_type": "code",
   "execution_count": null,
   "id": "a9f850c6",
   "metadata": {},
   "outputs": [],
   "source": [
    "kernel_sharp = np.array([[0, -1, 0],\n",
    "                         [-1, 5, -1],\n",
    "                         [0, -1, 0]])\n",
    "sharp = cv2.filter2D(img_gray, -1, kernel_sharp)\n",
    "cv2.imwrite(\"resultados/03_sharpen.jpg\", sharp)\n",
    "cv2.imshow(\"Sharpen\", sharp)\n",
    "cv2.waitKey(0)\n",
    "cv2.destroyAllWindows()"
   ]
  },
  {
   "cell_type": "markdown",
   "id": "2e166ce7",
   "metadata": {},
   "source": [
    "## **4. Detección de bordes con Sobel**"
   ]
  },
  {
   "cell_type": "code",
   "execution_count": null,
   "id": "ebf627dc",
   "metadata": {},
   "outputs": [],
   "source": [
    "sobel_x = cv2.Sobel(img_gray, cv2.CV_64F, 1, 0, ksize=3)\n",
    "sobel_y = cv2.Sobel(img_gray, cv2.CV_64F, 0, 1, ksize=3)\n",
    "sobel_x = cv2.convertScaleAbs(sobel_x)\n",
    "sobel_y = cv2.convertScaleAbs(sobel_y)\n",
    "cv2.imwrite(\"resultados/04_sobel_x.jpg\", sobel_x)\n",
    "cv2.imwrite(\"resultados/05_sobel_y.jpg\", sobel_y)\n",
    "cv2.imshow(\"Sobel X\", sobel_x)\n",
    "cv2.waitKey(0)\n",
    "cv2.destroyAllWindows()\n",
    "cv2.imshow(\"Sobel Y\", sobel_y)\n",
    "cv2.waitKey(0)\n",
    "cv2.destroyAllWindows()"
   ]
  },
  {
   "cell_type": "markdown",
   "id": "d73f8a80",
   "metadata": {},
   "source": [
    "## **5. Detección de bordes con Laplaciano**"
   ]
  },
  {
   "cell_type": "code",
   "execution_count": null,
   "id": "e3d4d50f",
   "metadata": {},
   "outputs": [],
   "source": [
    "laplacian = cv2.Laplacian(img_gray, cv2.CV_64F)\n",
    "laplacian = cv2.convertScaleAbs(laplacian)\n",
    "cv2.imwrite(\"resultados/06_laplaciano.jpg\", laplacian)\n",
    "cv2.imshow(\"Laplaciano\", laplacian)\n",
    "cv2.waitKey(0)\n",
    "cv2.destroyAllWindows()"
   ]
  },
  {
   "cell_type": "markdown",
   "id": "27ccfafe",
   "metadata": {},
   "source": [
    "## **6. Crear GIF con los resultados**"
   ]
  },
  {
   "cell_type": "code",
   "execution_count": 9,
   "id": "68cd47c7",
   "metadata": {},
   "outputs": [],
   "source": [
    "imagenes_gif = [\n",
    "    \"resultados/01_gris.jpg\",\n",
    "    \"resultados/02_blur.jpg\",\n",
    "    \"resultados/03_sharpen.jpg\",\n",
    "    \"resultados/04_sobel_x.jpg\",\n",
    "    \"resultados/05_sobel_y.jpg\",\n",
    "    \"resultados/06_laplaciano.jpg\"\n",
    "]\n",
    "\n",
    "base_shape = cv2.imread(imagenes_gif[0]).shape[:2]\n",
    "frames = []\n",
    "for path in imagenes_gif:\n",
    "    img = cv2.imread(path)\n",
    "    img_resized = cv2.resize(img, (base_shape[1], base_shape[0]))\n",
    "    frames.append(img_resized)\n",
    "\n",
    "imageio.mimsave(\"resultados/filtros_bordes.gif\", frames, duration=2000)\n"
   ]
  }
 ],
 "metadata": {
  "kernelspec": {
   "display_name": "base",
   "language": "python",
   "name": "python3"
  },
  "language_info": {
   "codemirror_mode": {
    "name": "ipython",
    "version": 3
   },
   "file_extension": ".py",
   "mimetype": "text/x-python",
   "name": "python",
   "nbconvert_exporter": "python",
   "pygments_lexer": "ipython3",
   "version": "3.12.4"
  }
 },
 "nbformat": 4,
 "nbformat_minor": 5
}
