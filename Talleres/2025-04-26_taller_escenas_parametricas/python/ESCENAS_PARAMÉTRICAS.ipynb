{
  "nbformat": 4,
  "nbformat_minor": 0,
  "metadata": {
    "colab": {
      "provenance": [],
      "authorship_tag": "ABX9TyOGiw2aXemHllCbJWJJylIB",
      "include_colab_link": true
    },
    "kernelspec": {
      "name": "python3",
      "display_name": "Python 3"
    },
    "language_info": {
      "name": "python"
    }
  },
  "cells": [
    {
      "cell_type": "markdown",
      "metadata": {
        "id": "view-in-github",
        "colab_type": "text"
      },
      "source": [
        "<a href=\"https://colab.research.google.com/github/JavierCarrillo12/Computacion-visual-jtorresle-jugomezra-dagarzonmo-jacarrillo/blob/main/Talleres/2025-04-26_taller_escenas_parametricas/python/ESCENAS_PARAM%C3%89TRICAS.ipynb\" target=\"_parent\"><img src=\"https://colab.research.google.com/assets/colab-badge.svg\" alt=\"Open In Colab\"/></a>"
      ]
    },
    {
      "cell_type": "code",
      "execution_count": null,
      "metadata": {
        "colab": {
          "base_uri": "https://localhost:8080/"
        },
        "id": "VrfTFyuoiQAi",
        "outputId": "43ed22ab-6389-4ac3-8cb4-ff71579151e6"
      },
      "outputs": [
        {
          "output_type": "stream",
          "name": "stdout",
          "text": [
            "\u001b[2K   \u001b[90m━━━━━━━━━━━━━━━━━━━━━━━━━━━━━━━━━━━━━━━━\u001b[0m \u001b[32m2.8/2.8 MB\u001b[0m \u001b[31m28.9 MB/s\u001b[0m eta \u001b[36m0:00:00\u001b[0m\n",
            "\u001b[2K   \u001b[90m━━━━━━━━━━━━━━━━━━━━━━━━━━━━━━━━━━━━━━━━\u001b[0m \u001b[32m709.3/709.3 kB\u001b[0m \u001b[31m24.5 MB/s\u001b[0m eta \u001b[36m0:00:00\u001b[0m\n",
            "\u001b[2K   \u001b[90m━━━━━━━━━━━━━━━━━━━━━━━━━━━━━━━━━━━━━━━━\u001b[0m \u001b[32m447.7/447.7 MB\u001b[0m \u001b[31m3.4 MB/s\u001b[0m eta \u001b[36m0:00:00\u001b[0m\n",
            "\u001b[2K   \u001b[90m━━━━━━━━━━━━━━━━━━━━━━━━━━━━━━━━━━━━━━━━\u001b[0m \u001b[32m7.9/7.9 MB\u001b[0m \u001b[31m64.6 MB/s\u001b[0m eta \u001b[36m0:00:00\u001b[0m\n",
            "\u001b[2K   \u001b[90m━━━━━━━━━━━━━━━━━━━━━━━━━━━━━━━━━━━━━━━━\u001b[0m \u001b[32m101.7/101.7 kB\u001b[0m \u001b[31m5.2 MB/s\u001b[0m eta \u001b[36m0:00:00\u001b[0m\n",
            "\u001b[2K   \u001b[90m━━━━━━━━━━━━━━━━━━━━━━━━━━━━━━━━━━━━━━━━\u001b[0m \u001b[32m139.8/139.8 kB\u001b[0m \u001b[31m6.4 MB/s\u001b[0m eta \u001b[36m0:00:00\u001b[0m\n",
            "\u001b[2K   \u001b[90m━━━━━━━━━━━━━━━━━━━━━━━━━━━━━━━━━━━━━━━━\u001b[0m \u001b[32m228.0/228.0 kB\u001b[0m \u001b[31m14.8 MB/s\u001b[0m eta \u001b[36m0:00:00\u001b[0m\n",
            "\u001b[2K   \u001b[90m━━━━━━━━━━━━━━━━━━━━━━━━━━━━━━━━━━━━━━━━\u001b[0m \u001b[32m105.0/105.0 MB\u001b[0m \u001b[31m7.2 MB/s\u001b[0m eta \u001b[36m0:00:00\u001b[0m\n",
            "\u001b[2K   \u001b[90m━━━━━━━━━━━━━━━━━━━━━━━━━━━━━━━━━━━━━━━━\u001b[0m \u001b[32m216.6/216.6 kB\u001b[0m \u001b[31m8.1 MB/s\u001b[0m eta \u001b[36m0:00:00\u001b[0m\n",
            "\u001b[2K   \u001b[90m━━━━━━━━━━━━━━━━━━━━━━━━━━━━━━━━━━━━━━━━\u001b[0m \u001b[32m2.2/2.2 MB\u001b[0m \u001b[31m42.2 MB/s\u001b[0m eta \u001b[36m0:00:00\u001b[0m\n",
            "\u001b[2K   \u001b[90m━━━━━━━━━━━━━━━━━━━━━━━━━━━━━━━━━━━━━━━━\u001b[0m \u001b[32m1.6/1.6 MB\u001b[0m \u001b[31m39.8 MB/s\u001b[0m eta \u001b[36m0:00:00\u001b[0m\n",
            "\u001b[?25h"
          ]
        }
      ],
      "source": [
        "!pip install -q vedo trimesh open3d numpy pandas\n"
      ]
    },
    {
      "cell_type": "markdown",
      "source": [
        "# Imports y utilidades"
      ],
      "metadata": {
        "id": "r5mLjm_-i5uN"
      }
    },
    {
      "cell_type": "code",
      "source": [
        "import numpy as np\n",
        "import vedo                     as vd\n",
        "import trimesh                  as tm\n",
        "import open3d                   as o3d\n",
        "import pandas as pd             # <- sólo para el Bonus\n",
        "import matplotlib.colors as mcolors\n",
        "\n",
        "# Paleta básica de colores por si la necesitas\n",
        "COLORS = [\"red\", \"green\", \"blue\", \"yellow\", \"orange\", \"pink\", \"cyan\"]\n"
      ],
      "metadata": {
        "id": "8elZ5s0aiuL2"
      },
      "execution_count": null,
      "outputs": []
    },
    {
      "cell_type": "markdown",
      "source": [
        "# Lista de coordenadas (manual o cargada)"
      ],
      "metadata": {
        "id": "wZztmedhi9jV"
      }
    },
    {
      "cell_type": "code",
      "source": [
        "# --- Definir puntos manualmente ---\n",
        "coords = np.array([\n",
        "    [ 0,  0,  0],\n",
        "    [ 2,  0,  0],\n",
        "    [ 0,  2,  0],\n",
        "    [ 0,  0,  2],\n",
        "    [-2, -2,  0],\n",
        "    [ 2,  2,  2],\n",
        "])\n",
        "\n",
        "# --- BONUS: cargar puntos desde .csv o .json ---\n",
        "#  Lee un archivo que tenga columnas x,y,z\n",
        "# coords_df = pd.read_json(\"puntos.json\")        # o read_json\n",
        "# coords    = coords_df[['x','y','z']].values\n"
      ],
      "metadata": {
        "id": "XkVoz8b_iz59"
      },
      "execution_count": null,
      "outputs": []
    },
    {
      "cell_type": "markdown",
      "source": [
        "# Generar primitivas 3D con parámetros variables"
      ],
      "metadata": {
        "id": "UJR16kt6jAfe"
      }
    },
    {
      "cell_type": "code",
      "source": [
        "def make_primitives(points):\n",
        "    \"\"\"Devuelve tres listas (vedo, trimesh, open3d) con las primitivas creadas\"\"\"\n",
        "    vedo_objs, tm_objs, o3d_objs = [], [], []\n",
        "\n",
        "    for i, p in enumerate(points):\n",
        "        # Selecciona tamaño, color y tipo según la posición i (puedes sofisticarlo)\n",
        "        size   = 0.5 + 0.15 * i\n",
        "        color  = COLORS[i % len(COLORS)]\n",
        "\n",
        "        if   i % 3 == 0:   # Cubo\n",
        "            # vedo\n",
        "            vedo_objs.append(vd.Cube(p, side=size, c=color, alpha=0.9))\n",
        "            # trimesh\n",
        "            tm_objs.append(tm.creation.box(extents=[size]*3, transform=tm.transformations.translation_matrix(p)))\n",
        "            # open3d\n",
        "            mesh = o3d.geometry.TriangleMesh.create_cylinder(radius=size/3, height=size)\n",
        "            mesh.translate(p + [0,0,-size/2])\n",
        "            mesh.paint_uniform_color(mcolors.to_rgb(color))\n",
        "            o3d_objs.append(mesh)\n",
        "\n",
        "        elif i % 3 == 1:   # Esfera\n",
        "            vedo_objs.append(vd.Sphere(p, r=size/2, c=color, alpha=0.9))\n",
        "            tm_objs.append(tm.creation.icosphere(radius=size/2, subdivisions=3).apply_translation(p))\n",
        "            mesh = o3d.geometry.TriangleMesh.create_sphere(radius=size/2)\n",
        "            mesh.translate(p)\n",
        "            mesh.paint_uniform_color(mcolors.to_rgb(color))\n",
        "            o3d_objs.append(mesh)\n",
        "\n",
        "        else:              # Cilindro\n",
        "            vedo_objs.append(vd.Cylinder(pos=p, r=size/3, height=size, c=color, alpha=0.9))\n",
        "            tm_objs.append(tm.creation.cylinder(radius=size/3, height=size, sections=32)\n",
        "                              .apply_translation(p + [0,0,-size/2]))\n",
        "            mesh = o3d.geometry.TriangleMesh.create_cylinder(radius=size/3, height=size)\n",
        "            mesh.translate(p + [0,0,-size/2])\n",
        "            mesh.paint_uniform_color(mcolors.to_rgb(color))\n",
        "            o3d_objs.append(mesh)\n",
        "\n",
        "    return vedo_objs, tm_objs, o3d_objs\n",
        "\n",
        "vedo_objs, tm_objs, o3d_objs = make_primitives(coords)\n"
      ],
      "metadata": {
        "id": "7fR0XW1mi3ON"
      },
      "execution_count": null,
      "outputs": []
    },
    {
      "cell_type": "markdown",
      "source": [
        "# Visualizar"
      ],
      "metadata": {
        "id": "5POy5jJqjGhl"
      }
    },
    {
      "cell_type": "code",
      "source": [
        "# Esta sección en particular interumpe la sesión de Colab debido probablemente a la limitación de recursos\n",
        "# ---- vedo ----\n",
        "# vd.show(*vedo_objs,\n",
        "#         axes=1, bg=\"white\", viewup=\"z\").close()\n",
        "\n",
        "# ---- open3d ----\n",
        "#o3d.visualization.draw(o3d_objs)   # Descomenta si quieres ver la versión open3d\n"
      ],
      "metadata": {
        "id": "rBXa3x9OjDBV"
      },
      "execution_count": null,
      "outputs": []
    },
    {
      "cell_type": "markdown",
      "source": [
        "# Exportar a .OBJ · .STL · .GLTF"
      ],
      "metadata": {
        "id": "RJQK-VpvjINm"
      }
    },
    {
      "cell_type": "code",
      "source": [
        "# === 6.1 Con vedo ===\n",
        "scene_vd = vd.Assembly(vedo_objs)\n",
        "scene_vd.write(\"escena_vedo.obj\")    # Cambia extensión a .stl o .gltf si lo prefieres\n",
        "\n",
        "# === 6.2 Con trimesh ===\n",
        "scene_tm = tm.Scene(tm_objs)\n",
        "scene_tm.export(\"escena_trimesh.stl\")\n",
        "\n",
        "# También puedes exportar cada malla individual:\n",
        "for i, mesh in enumerate(tm_objs, start=1):\n",
        "    mesh.export(f\"objeto_{i}.obj\")\n",
        "\n",
        "# === 6.3 Con open3d ===\n",
        "# Une las mallas para exportar la escena completa\n",
        "scene_o3d = o3d.geometry.TriangleMesh()\n",
        "for mesh in o3d_objs:\n",
        "    scene_o3d += mesh\n",
        "o3d.io.write_triangle_mesh(\"escena_open3d.gltf\", scene_o3d)\n"
      ],
      "metadata": {
        "colab": {
          "base_uri": "https://localhost:8080/"
        },
        "id": "Nwp0lNLajH49",
        "outputId": "e9853fda-4155-467f-85b1-c5c7583d91a1"
      },
      "execution_count": null,
      "outputs": [
        {
          "output_type": "execute_result",
          "data": {
            "text/plain": [
              "True"
            ]
          },
          "metadata": {},
          "execution_count": 11
        }
      ]
    },
    {
      "cell_type": "markdown",
      "source": [
        "# Automatiza todo con una función (opcional)"
      ],
      "metadata": {
        "id": "DrO29ZQWjMV1"
      }
    },
    {
      "cell_type": "code",
      "source": [
        "def generar_escena(ruta=\"salida\", puntos=None):\n",
        "    \"\"\"Crea, visualiza y exporta la escena completa.\"\"\"\n",
        "    puntos = puntos if puntos is not None else coords\n",
        "    vedo_objs, tm_objs, o3d_objs = make_primitives(puntos)\n",
        "\n",
        "    # Visualización rápida\n",
        "    vd.show(*vedo_objs, axes=1, bg=\"white\", viewup=\"z\").close()\n",
        "\n",
        "    # Exportar\n",
        "    vd.Assembly(vedo_objs).write(f\"{ruta}.obj\")\n",
        "    tm.Scene(tm_objs).dump().export(f\"{ruta}.stl\")\n",
        "    escena_o3d = o3d.geometry.TriangleMesh()\n",
        "    for m in o3d_objs:\n",
        "        escena_o3d += m\n",
        "    o3d.io.write_triangle_mesh(f\"{ruta}.gltf\", escena_o3d)\n",
        "\n",
        "    print(\"¡Escena exportada en OBJ, STL y GLTF!\")\n",
        "\n",
        "# --- Ejemplo de uso ---\n",
        "# generar_escena(\"mi_escena\", puntos=coords)\n"
      ],
      "metadata": {
        "id": "ZMLPKBh2jOpF"
      },
      "execution_count": null,
      "outputs": []
    }
  ]
}